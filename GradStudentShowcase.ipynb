{
  "nbformat": 4,
  "nbformat_minor": 0,
  "metadata": {
    "colab": {
      "name": "GradStudentShowcase.ipynb",
      "provenance": [],
      "collapsed_sections": [],
      "mount_file_id": "1onBVEcNdR_M48X2y0MLi39MrbJECxJeb",
      "authorship_tag": "ABX9TyNBg92/yR9JSX78+Q1yz1wv",
      "include_colab_link": true
    },
    "kernelspec": {
      "name": "python3",
      "display_name": "Python 3"
    }
  },
  "cells": [
    {
      "cell_type": "markdown",
      "metadata": {
        "id": "view-in-github",
        "colab_type": "text"
      },
      "source": [
        "<a href=\"https://colab.research.google.com/github/tpmccrea/GradStudentShowcase/blob/master/GradStudentShowcase.ipynb\" target=\"_parent\"><img src=\"https://colab.research.google.com/assets/colab-badge.svg\" alt=\"Open In Colab\"/></a>"
      ]
    },
    {
      "cell_type": "markdown",
      "metadata": {
        "id": "76RjZbrY7aHh",
        "colab_type": "text"
      },
      "source": [
        "# **Grad Student Showcase Colab Notebook** \n",
        "\n",
        "This notebook contains several sections or cells: \n",
        "* Initializing Earth Engine and Loading the Library\n",
        "* Loading and Displaying Earth Engine Data as Static Images \n",
        "* Creating an Interactive Map using the Folium Library"
      ]
    },
    {
      "cell_type": "markdown",
      "metadata": {
        "id": "QLx2oFMBbN9M",
        "colab_type": "text"
      },
      "source": [
        "# Initialize EarthEngine"
      ]
    },
    {
      "cell_type": "code",
      "metadata": {
        "id": "EHGJJqOTbJ12",
        "colab_type": "code",
        "colab": {}
      },
      "source": [
        "# load GEE library \n",
        "import ee\n",
        "\n",
        "# authenticate EE command line\n",
        "ee.Authenticate()\n",
        "\n",
        "# initialize EE command line\n",
        "ee.Initialize()"
      ],
      "execution_count": 0,
      "outputs": []
    },
    {
      "cell_type": "markdown",
      "metadata": {
        "id": "ndB485-Wbc2l",
        "colab_type": "text"
      },
      "source": [
        "# Display Static Images of Earth Engine Data"
      ]
    },
    {
      "cell_type": "code",
      "metadata": {
        "id": "EW6B6UPlbgZG",
        "colab_type": "code",
        "outputId": "6806a640-e178-4a52-8744-08a6f0020fc8",
        "colab": {
          "base_uri": "https://localhost:8080/",
          "height": 791
        }
      },
      "source": [
        "# load libraries\n",
        "from IPython.display import Image\n",
        "import ee\n",
        "# initialize EE command line \n",
        "ee.Initialize()\n",
        "# ee.Authenticate() #execute this command if ee has not been authorized in another cell of the notebook\n",
        "\n",
        "# import image raster and visualize as a static image, set visual parameters\n",
        "Elevate = ee.Image('USGS/SRTMGL1_003')\n",
        "Image(url=Elevate.updateMask(Elevate.gt(0))\n",
        "  .getThumbUrl({'min': 0, 'max': 4500, 'dimensions': 1500,\n",
        "'palette': ['0099ff', '80ff00', 'fff200', 'ff9d00', 'ff0000']}))"
      ],
      "execution_count": 44,
      "outputs": [
        {
          "output_type": "execute_result",
          "data": {
            "text/html": [
              "<img src=\"https://earthengine.googleapis.com/v1alpha/projects/earthengine-legacy/thumbnails/2068563322d08ae9648c51f204d48410-6fe2e12a89e18249d5ce55c7adbe1a9b:getPixels\"/>"
            ],
            "text/plain": [
              "<IPython.core.display.Image object>"
            ]
          },
          "metadata": {
            "tags": []
          },
          "execution_count": 44
        }
      ]
    },
    {
      "cell_type": "code",
      "metadata": {
        "colab_type": "code",
        "outputId": "e53e7624-9416-49a7-f810-5e6da0533a38",
        "id": "BY70XFS8tQ0t",
        "colab": {
          "base_uri": "https://localhost:8080/",
          "height": 791
        }
      },
      "source": [
        "# load libraries\n",
        "from IPython.display import Image\n",
        "import ee\n",
        "# initialize EE command line \n",
        "ee.Initialize()\n",
        "# ee.Authenticate() #execute this command if ee has not been authorized in another cell of the notebook\n",
        "\n",
        "# import image raster and visualize as a static image, set visual parameters\n",
        "landforms = ee.Image('CSP/ERGo/1_0/Global/SRTM_landforms')\n",
        "Image(url=landforms\n",
        "  .getThumbUrl({'dimensions': 1500,\n",
        "            'palette': ['141414', '383838' , '808080', 'EBEB8F', 'F7D311', 'AA0000', 'D89382', 'DDC9C9',\n",
        "                        'DCCDCE', '1C6330', '68AA63', 'B5C98E', 'E1F0E5', 'a975ba', '6f198c'], 'min': 11, 'max': 42}))"
      ],
      "execution_count": 45,
      "outputs": [
        {
          "output_type": "execute_result",
          "data": {
            "text/html": [
              "<img src=\"https://earthengine.googleapis.com/v1alpha/projects/earthengine-legacy/thumbnails/b170fe33254c35f9f38f57f3edf77da6-f15fc648c71a27b12eb3aa74af94191d:getPixels\"/>"
            ],
            "text/plain": [
              "<IPython.core.display.Image object>"
            ]
          },
          "metadata": {
            "tags": []
          },
          "execution_count": 45
        }
      ]
    },
    {
      "cell_type": "markdown",
      "metadata": {
        "id": "2fM59ZinbEQs",
        "colab_type": "text"
      },
      "source": [
        "# Create Interactive Map"
      ]
    },
    {
      "cell_type": "code",
      "metadata": {
        "id": "WUV-kywiiJ2a",
        "colab_type": "code",
        "colab": {
          "base_uri": "https://localhost:8080/",
          "height": 712
        },
        "outputId": "4cbb39c9-1122-4665-9230-922af4e7317a"
      },
      "source": [
        "# load libraries\n",
        "import ee\n",
        "import folium # folium is library for visualizing data using leaflet maps\n",
        "\n",
        "# initialize EE command line \n",
        "ee.Initialize()\n",
        "# ee.Authenticate() #execute this command if ee has not been authorized in another cell of the notebook\n",
        "\n",
        "\n",
        "# define method of operations for displaying GEE data onto map, sets tiles and attributes\n",
        "def add_ee_layer(self, ee_image_object, vis_params, name):\n",
        "  map_id_dict = ee.Image(ee_image_object).getMapId(vis_params)\n",
        "  folium.raster_layers.TileLayer(\n",
        "    tiles = map_id_dict['tile_fetcher'].url_format,\n",
        "    attr = \"Map Data © Google Earth Engine\",\n",
        "    name = name,\n",
        "    overlay = True,\n",
        "    control = True\n",
        "  ).add_to(self)\n",
        "\n",
        "# add drawing method to map, similar to Map.addLayer in the code editor\n",
        "folium.Map.add_ee_layer = add_ee_layer\n",
        "\n",
        "# load images, note the differences again between python and javascript api \n",
        "OpticalDepth = ee.Image('MODIS/006/MOD08_M3/A2018091')\n",
        "GlobalTemp = ee.Image('MODIS/006/MOD11A1/2018_09_01')\n",
        "\n",
        "# set visualization parameters for each of the image layers to be visualized\n",
        "vis_params = {\n",
        "  'min': -50,\n",
        "  'max': 800,\n",
        "  'palette': ['0500ff', ' 00d4ff', ' 00ff10', ' FFd200', 'FF1e00']}\n",
        "\n",
        "vis_params1 = {\n",
        "  'min': 12000,\n",
        "  'max': 16000,\n",
        "  'palette': ['0500ff', ' 00d4ff', ' 00ff10', ' FFd200', 'FF1e00']}\n",
        "\n",
        "# create map object using the folium.Map command \n",
        "my_map = folium.Map(location=[20, 0], zoom_start=3, height=1000)\n",
        "\n",
        "# Add the Optical Depth Image and Global temp Image to Map, set visualization parameters and name layers \n",
        "my_map.add_ee_layer(OpticalDepth.select('Aerosol_Optical_Depth_Land_Ocean_Mean_Mean'), vis_params, 'Mean Aerosol Optical Depth')\n",
        "my_map.add_ee_layer(GlobalTemp.select('LST_Day_1km'), vis_params1, 'Global Surface Temp')\n",
        "\n",
        "# this adds the layer control panel to the map so that layers can be toggled on and off\n",
        "my_map.add_child(folium.LayerControl())\n",
        "\n",
        "# displays the map\n",
        "display(my_map)\n",
        "\n",
        "# export map source code as HTML file\n",
        "my_map.save('index.html')"
      ],
      "execution_count": 46,
      "outputs": [
        {
          "output_type": "display_data",
          "data": {
            "text/html": [
              "<div style=\"width:100%;\"><div style=\"position:relative;width:100%;height:0;padding-bottom:60%;\"><iframe src=\"data:text/html;charset=utf-8;base64,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\" style=\"position:absolute;width:100%;height:100%;left:0;top:0;border:none !important;\" allowfullscreen webkitallowfullscreen mozallowfullscreen></iframe></div></div>"
            ],
            "text/plain": [
              "<folium.folium.Map at 0x7f1d58aee9e8>"
            ]
          },
          "metadata": {
            "tags": []
          }
        }
      ]
    }
  ]
}