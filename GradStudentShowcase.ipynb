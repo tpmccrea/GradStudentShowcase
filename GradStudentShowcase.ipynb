{
  "nbformat": 4,
  "nbformat_minor": 0,
  "metadata": {
    "colab": {
      "name": "GradStudentShowcase.ipynb",
      "provenance": [],
      "collapsed_sections": [],
      "mount_file_id": "1onBVEcNdR_M48X2y0MLi39MrbJECxJeb",
      "authorship_tag": "ABX9TyO8kxhSOVArCS9Rqh990tge",
      "include_colab_link": true
    },
    "kernelspec": {
      "name": "python3",
      "display_name": "Python 3"
    }
  },
  "cells": [
    {
      "cell_type": "markdown",
      "metadata": {
        "id": "view-in-github",
        "colab_type": "text"
      },
      "source": [
        "<a href=\"https://colab.research.google.com/github/tpmccrea/GradStudentShowcase/blob/master/GradStudentShowcase.ipynb\" target=\"_parent\"><img src=\"https://colab.research.google.com/assets/colab-badge.svg\" alt=\"Open In Colab\"/></a>"
      ]
    },
    {
      "cell_type": "markdown",
      "metadata": {
        "id": "76RjZbrY7aHh",
        "colab_type": "text"
      },
      "source": [
        "# **Grad Student Showcase Colab Notebook** \n",
        "\n",
        "This notebook contains several sections or cells: \n",
        "* Initializing Earth Engine and Loading the Library\n",
        "* Loading and Displaying Earth Engine Data as Static Images \n",
        "* Creating an Interactive Map using the Folium Library"
      ]
    },
    {
      "cell_type": "markdown",
      "metadata": {
        "id": "QLx2oFMBbN9M",
        "colab_type": "text"
      },
      "source": [
        "# Initialize EarthEngine"
      ]
    },
    {
      "cell_type": "code",
      "metadata": {
        "id": "EHGJJqOTbJ12",
        "colab_type": "code",
        "colab": {}
      },
      "source": [
        "# load GEE library \n",
        "import ee\n",
        "\n",
        "# authenticate EE command line\n",
        "ee.Authenticate()\n",
        "\n",
        "# initialize EE command line\n",
        "ee.Initialize()"
      ],
      "execution_count": 0,
      "outputs": []
    },
    {
      "cell_type": "markdown",
      "metadata": {
        "id": "ndB485-Wbc2l",
        "colab_type": "text"
      },
      "source": [
        "# Display Static Images of Earth Engine Data"
      ]
    },
    {
      "cell_type": "code",
      "metadata": {
        "id": "EW6B6UPlbgZG",
        "colab_type": "code",
        "colab": {}
      },
      "source": [
        "# load libraries\n",
        "from IPython.display import Image\n",
        "import ee\n",
        "# initialize EE command line \n",
        "ee.Initialize()\n",
        "# ee.Authenticate() #execute this command if ee has not been authorized in another cell of the notebook\n",
        "\n",
        "# import image raster and visualize as a static image, set visual parameters\n",
        "Elevate = ee.Image('USGS/SRTMGL1_003')\n",
        "# print the image metadata info using this command \n",
        "print(Elevate.getInfo())\n",
        "Image(url=Elevate.updateMask(Elevate.gt(0))\n",
        "  .getThumbUrl({'min': 0, 'max': 4500, 'dimensions': 1500,\n",
        "'palette': ['0099ff', '80ff00', 'fff200', 'ff9d00', 'ff0000']}))"
      ],
      "execution_count": 0,
      "outputs": []
    },
    {
      "cell_type": "code",
      "metadata": {
        "colab_type": "code",
        "id": "BY70XFS8tQ0t",
        "colab": {}
      },
      "source": [
        "# load libraries\n",
        "from IPython.display import Image\n",
        "import ee\n",
        "# initialize EE command line \n",
        "ee.Initialize()\n",
        "# ee.Authenticate() #execute this command if ee has not been authorized in another cell of the notebook\n",
        "\n",
        "# import image raster and visualize as a static image, set visual parameters\n",
        "landforms = ee.Image('CSP/ERGo/1_0/Global/SRTM_landforms')\n",
        "Image(url=landforms\n",
        "  .getThumbUrl({'dimensions': 1500,\n",
        "            'palette': ['141414', '383838' , '808080', 'EBEB8F', 'F7D311', 'AA0000', 'D89382', 'DDC9C9',\n",
        "                        'DCCDCE', '1C6330', '68AA63', 'B5C98E', 'E1F0E5', 'a975ba', '6f198c'], 'min': 10, 'max': 50}))"
      ],
      "execution_count": 0,
      "outputs": []
    },
    {
      "cell_type": "markdown",
      "metadata": {
        "id": "2fM59ZinbEQs",
        "colab_type": "text"
      },
      "source": [
        "# Create Interactive Map"
      ]
    },
    {
      "cell_type": "code",
      "metadata": {
        "id": "WUV-kywiiJ2a",
        "colab_type": "code",
        "colab": {}
      },
      "source": [
        "# load libraries\n",
        "import ee\n",
        "import folium # folium is library for visualizing data using leaflet maps\n",
        "\n",
        "# initialize EE command line \n",
        "ee.Initialize()\n",
        "# ee.Authenticate() #execute this command if ee has not been authorized in another cell of the notebook\n",
        "\n",
        "\n",
        "# define method of operations for displaying GEE data onto map, sets tiles and attributes\n",
        "def add_ee_layer(self, ee_image_object, vis_params, name):\n",
        "  map_id_dict = ee.Image(ee_image_object).getMapId(vis_params)\n",
        "  folium.raster_layers.TileLayer(\n",
        "    tiles = map_id_dict['tile_fetcher'].url_format,\n",
        "    attr = \"Map Data © Google Earth Engine\",\n",
        "    name = name,\n",
        "    overlay = True,\n",
        "    control = True\n",
        "  ).add_to(self)\n",
        "\n",
        "# add drawing method to map, similar to Map.addLayer in the code editor\n",
        "folium.Map.add_ee_layer = add_ee_layer\n",
        "\n",
        "# load images, note the differences again between python and javascript api \n",
        "OpticalDepth = ee.Image('MODIS/006/MOD08_M3/A2018091')\n",
        "GlobalTemp = ee.Image('MODIS/006/MOD11A1/2018_09_01')\n",
        "\n",
        "# set visualization parameters for each of the image layers to be visualized\n",
        "vis_params = {\n",
        "  'min': -50,\n",
        "  'max': 800,\n",
        "  'palette': ['0500ff', ' 00d4ff', ' 00ff10', ' FFd200', 'FF1e00']}\n",
        "\n",
        "vis_params1 = {\n",
        "  'min': 12000,\n",
        "  'max': 16000,\n",
        "  'palette': ['0500ff', ' 00d4ff', ' 00ff10', ' FFd200', 'FF1e00']}\n",
        "\n",
        "# create map object using the folium.Map command \n",
        "my_map = folium.Map(location=[20, 0], zoom_start=3, height=1000)\n",
        "\n",
        "# Add the Optical Depth Image and Global temp Image to Map, set visualization parameters and name layers \n",
        "my_map.add_ee_layer(OpticalDepth.select('Aerosol_Optical_Depth_Land_Ocean_Mean_Mean'), vis_params, 'Mean Aerosol Optical Depth')\n",
        "my_map.add_ee_layer(GlobalTemp.select('LST_Day_1km'), vis_params1, 'Global Surface Temp')\n",
        "\n",
        "# this adds the layer control panel to the map so that layers can be toggled on and off\n",
        "my_map.add_child(folium.LayerControl())\n",
        "\n",
        "# displays the map\n",
        "display(my_map)\n",
        "\n",
        "# export map source code as HTML file\n",
        "my_map.save('index.html')"
      ],
      "execution_count": 0,
      "outputs": []
    }
  ]
}