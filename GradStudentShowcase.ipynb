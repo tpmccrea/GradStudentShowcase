{
  "nbformat": 4,
  "nbformat_minor": 0,
  "metadata": {
    "colab": {
      "name": "GradStudentShowcase.ipynb",
      "provenance": [],
      "collapsed_sections": [],
      "toc_visible": true,
      "mount_file_id": "1onBVEcNdR_M48X2y0MLi39MrbJECxJeb",
      "authorship_tag": "ABX9TyO8kxhSOVArCS9Rqh990tge",
      "include_colab_link": true
    },
    "kernelspec": {
      "name": "python3",
      "display_name": "Python 3"
    }
  },
  "cells": [
    {
      "cell_type": "markdown",
      "metadata": {
        "id": "view-in-github",
        "colab_type": "text"
      },
      "source": [
        "<a href=\"https://colab.research.google.com/github/tpmccrea/GradStudentShowcase/blob/master/GradStudentShowcase.ipynb\" target=\"_parent\"><img src=\"https://colab.research.google.com/assets/colab-badge.svg\" alt=\"Open In Colab\"/></a>"
      ]
    },
    {
      "cell_type": "markdown",
      "metadata": {
        "id": "76RjZbrY7aHh",
        "colab_type": "text"
      },
      "source": [
        "# **Grad Student Showcase Colab Notebook** \n",
        "\n",
        "This notebook contains several sections or cells: \n",
        "* Initializing Earth Engine and Loading the Library\n",
        "* Loading and Displaying Earth Engine Data as Static Images \n",
        "* Creating an Interactive Map using the Folium Library"
      ]
    },
    {
      "cell_type": "markdown",
      "metadata": {
        "id": "QLx2oFMBbN9M",
        "colab_type": "text"
      },
      "source": [
        "# Initialize EarthEngine"
      ]
    },
    {
      "cell_type": "code",
      "metadata": {
        "id": "EHGJJqOTbJ12",
        "colab_type": "code",
        "outputId": "8ae75dab-b27f-4bf7-815a-c5447da3e45e",
        "colab": {
          "base_uri": "https://localhost:8080/",
          "height": 173
        }
      },
      "source": [
        "# load GEE library \n",
        "import ee\n",
        "\n",
        "# authenticate EE command line\n",
        "ee.Authenticate()\n",
        "\n",
        "# initialize EE command line\n",
        "ee.Initialize()"
      ],
      "execution_count": 2,
      "outputs": [
        {
          "output_type": "stream",
          "text": [
            "To authorize access needed by Earth Engine, open the following URL in a web browser and follow the instructions. If the web browser does not start automatically, please manually browse the URL below.\n",
            "\n",
            "    https://accounts.google.com/o/oauth2/auth?client_id=517222506229-vsmmajv00ul0bs7p89v5m89qs8eb9359.apps.googleusercontent.com&scope=https%3A%2F%2Fwww.googleapis.com%2Fauth%2Fearthengine+https%3A%2F%2Fwww.googleapis.com%2Fauth%2Fdevstorage.full_control&redirect_uri=urn%3Aietf%3Awg%3Aoauth%3A2.0%3Aoob&response_type=code&code_challenge=wMzxQF13FWBzCeMgZgeMHTJSqFDD4ZwqNHXzOmHIkAM&code_challenge_method=S256\n",
            "\n",
            "The authorization workflow will generate a code, which you should paste in the box below. \n",
            "Enter verification code: 4/xgF25qlptV87S6NsnYx7ZveEFyhBJI3Z7zw45P3ULBt1fwLN21Kijmg\n",
            "\n",
            "Successfully saved authorization token.\n"
          ],
          "name": "stdout"
        }
      ]
    },
    {
      "cell_type": "markdown",
      "metadata": {
        "id": "ndB485-Wbc2l",
        "colab_type": "text"
      },
      "source": [
        "# Display Static Images of Earth Engine Data"
      ]
    },
    {
      "cell_type": "code",
      "metadata": {
        "id": "EW6B6UPlbgZG",
        "colab_type": "code",
        "colab": {
          "base_uri": "https://localhost:8080/",
          "height": 808
        },
        "outputId": "17478153-34bc-4396-aca4-b1bddf8e5428"
      },
      "source": [
        "# load libraries\n",
        "from IPython.display import Image\n",
        "import ee\n",
        "# initialize EE command line \n",
        "ee.Initialize()\n",
        "# ee.Authenticate() #execute this command if ee has not been authorized in another cell of the notebook\n",
        "\n",
        "# import image raster and visualize as a static image, set visual parameters\n",
        "Elevate = ee.Image('USGS/SRTMGL1_003')\n",
        "# print the image metadata info using this command \n",
        "print(Elevate.getInfo())\n",
        "Image(url=Elevate.updateMask(Elevate.gt(0))\n",
        "  .getThumbUrl({'min': 0, 'max': 4500, 'dimensions': 1500,\n",
        "'palette': ['0099ff', '80ff00', 'fff200', 'ff9d00', 'ff0000']}))"
      ],
      "execution_count": 3,
      "outputs": [
        {
          "output_type": "stream",
          "text": [
            "{'type': 'Image', 'bands': [{'id': 'elevation', 'data_type': {'type': 'PixelType', 'precision': 'int', 'min': -32768, 'max': 32767}, 'dimensions': [1296001, 417601], 'crs': 'EPSG:4326', 'crs_transform': [0.0002777777777777778, 0, -180.0001388888889, 0, -0.0002777777777777778, 60.00013888888889]}], 'id': 'USGS/SRTMGL1_003', 'version': 1571719713605057, 'properties': {'system:visualization_0_min': '0.0', 'type_name': 'Image', 'thumb': 'https://mw1.google.com/ges/dd/images/SRTM90_V4_thumb.png', 'description': '<p>The Shuttle Radar Topography Mission (SRTM, see <a href=\"http://onlinelibrary.wiley.com/doi/10.1029/2005RG000183/full\">Farr\\net al. 2007</a>)\\ndigital elevation data is an international research effort that\\nobtained digital elevation models on a near-global scale. This\\nSRTM V3 product (SRTM Plus) is provided by NASA JPL\\nat a resolution of 1 arc-second (approximately 30m).</p><p>This dataset has undergone a void-filling process using open-source data\\n(ASTER GDEM2, GMTED2010, and NED), as opposed to other versions that\\ncontain voids or have been void-filled with commercial sources.\\nFor more information on the different versions see the\\n<a href=\"https://lpdaac.usgs.gov/sites/default/files/public/measures/docs/SRTM%20Quick%20Guide.pdf\">SRTM Quick Guide</a>.</p><p><b>Bands</b><table class=\"eecat\"><tr><th scope=\"col\">Name</th><th scope=\"col\">Units</th><th scope=\"col\">Min</th><th scope=\"col\">Max</th><th scope=\"col\">Resolution</th><th scope=\"col\">Description</th></tr><tr><td>elevation</td><td>Meters</td><td>\\n          -10*\\n</td><td>\\n          6500*\\n</td><td>\\n      30 meters\\n</td><td><p>Elevation</p></td></tr></table>\\n  * estimated min or max value\\n<p><b>Terms of Use</b><br><p>Unless otherwise noted, images and video on JPL public web sites (public sites ending with a jpl.nasa.gov address) may be used for any purpose without prior permission. For more information and exceptions visit the <a href=\"https://www.jpl.nasa.gov/imagepolicy/\">JPL Image Use Policy site</a>.</p><p><b>Suggested citation(s)</b><ul><li><p>Farr, T.G., Rosen, P.A., Caro, E., Crippen, R., Duren, R., Hensley, S., Kobrick, M., Paller, M., Rodriguez, E., Roth, L., Seal, D., Shaffer, S., Shimada, J., Umland, J., Werner, M., Oskin, M., Burbank, D., and Alsdorf, D.E., 2007, The shuttle radar topography mission: Reviews of Geophysics, v. 45, no. 2, RG2004, at <a href=\"https://doi.org/10.1029/2005RG000183\">https://doi.org/10.1029/2005RG000183</a>.</p></li></ul><style>\\n  table.eecat {\\n  border: 1px solid black;\\n  border-collapse: collapse;\\n  font-size: 13px;\\n  }\\n  table.eecat td, tr, th {\\n  text-align: left; vertical-align: top;\\n  border: 1px solid gray; padding: 3px;\\n  }\\n  td.nobreak { white-space: nowrap; }\\n</style>', 'source_tags': ['nasa', 'usgs'], 'visualization_0_max': '6000.0', 'title': 'SRTM Digital Elevation Data 30m', 'product_tags': ['srtm', 'elevation', 'topography', 'dem', 'geophysical'], 'provider': 'NASA / USGS / JPL-Caltech', 'visualization_0_min': '0.0', 'visualization_0_name': 'Elevation', 'date_range': [950227200000, 951177600000], 'system:visualization_0_gamma': '1.6', 'period': 0, 'system:visualization_0_bands': 'elevation', 'provider_url': 'http://www2.jpl.nasa.gov/srtm/', 'visualization_0_gamma': '1.6', 'sample': 'https://mw1.google.com/ges/dd/images/SRTM90_V4_sample.png', 'tags': ['nasa', 'usgs', 'srtm', 'elevation', 'topography', 'dem', 'geophysical'], 'system:visualization_0_max': '6000.0', 'system:visualization_0_name': 'Elevation', 'system:asset_size': 132792638252, 'visualization_0_bands': 'elevation'}}\n"
          ],
          "name": "stdout"
        },
        {
          "output_type": "execute_result",
          "data": {
            "text/html": [
              "<img src=\"https://earthengine.googleapis.com/v1alpha/projects/earthengine-legacy/thumbnails/2068563322d08ae9648c51f204d48410-fd6220240cee1724f2f7c635c01fe71e:getPixels\"/>"
            ],
            "text/plain": [
              "<IPython.core.display.Image object>"
            ]
          },
          "metadata": {
            "tags": []
          },
          "execution_count": 3
        }
      ]
    },
    {
      "cell_type": "code",
      "metadata": {
        "colab_type": "code",
        "id": "BY70XFS8tQ0t",
        "colab": {
          "base_uri": "https://localhost:8080/",
          "height": 791
        },
        "outputId": "3410fded-9956-44b0-a3ae-b64a7fa82893"
      },
      "source": [
        "# load libraries\n",
        "from IPython.display import Image\n",
        "import ee\n",
        "# initialize EE command line \n",
        "ee.Initialize()\n",
        "# ee.Authenticate() #execute this command if ee has not been authorized in another cell of the notebook\n",
        "\n",
        "# import image raster and visualize as a static image, set visual parameters\n",
        "landforms = ee.Image('CSP/ERGo/1_0/Global/SRTM_landforms')\n",
        "Image(url=landforms\n",
        "  .getThumbUrl({'dimensions': 1500,\n",
        "            'palette': ['141414', '383838' , '808080', 'EBEB8F', 'F7D311', 'AA0000', 'D89382', 'DDC9C9',\n",
        "                        'DCCDCE', '1C6330', '68AA63', 'B5C98E', 'E1F0E5', 'a975ba', '6f198c'], 'min': 10, 'max': 50}))"
      ],
      "execution_count": 4,
      "outputs": [
        {
          "output_type": "execute_result",
          "data": {
            "text/html": [
              "<img src=\"https://earthengine.googleapis.com/v1alpha/projects/earthengine-legacy/thumbnails/8f4a2c17ceeb338e208cd31c25f5d898-a612bced6a5fc8670c387f53a8aa59db:getPixels\"/>"
            ],
            "text/plain": [
              "<IPython.core.display.Image object>"
            ]
          },
          "metadata": {
            "tags": []
          },
          "execution_count": 4
        }
      ]
    },
    {
      "cell_type": "markdown",
      "metadata": {
        "id": "2fM59ZinbEQs",
        "colab_type": "text"
      },
      "source": [
        "# Create Interactive Map"
      ]
    },
    {
      "cell_type": "code",
      "metadata": {
        "id": "WUV-kywiiJ2a",
        "colab_type": "code",
        "outputId": "3161d3ad-fcbc-4752-f3aa-ea00f98131ee",
        "colab": {
          "base_uri": "https://localhost:8080/",
          "height": 585
        }
      },
      "source": [
        "# load libraries\n",
        "import ee\n",
        "import folium # folium is library for visualizing data using leaflet maps\n",
        "\n",
        "# initialize EE command line \n",
        "ee.Initialize()\n",
        "# ee.Authenticate() #execute this command if ee has not been authorized in another cell of the notebook\n",
        "\n",
        "\n",
        "# define method of operations for displaying GEE data onto map, sets tiles and attributes\n",
        "def add_ee_layer(self, ee_image_object, vis_params, name):\n",
        "  map_id_dict = ee.Image(ee_image_object).getMapId(vis_params)\n",
        "  folium.raster_layers.TileLayer(\n",
        "    tiles = map_id_dict['tile_fetcher'].url_format,\n",
        "    attr = \"Map Data © Google Earth Engine\",\n",
        "    name = name,\n",
        "    overlay = True,\n",
        "    control = True\n",
        "  ).add_to(self)\n",
        "\n",
        "# add drawing method to map, similar to Map.addLayer in the code editor\n",
        "folium.Map.add_ee_layer = add_ee_layer\n",
        "\n",
        "# load images, note the differences again between python and javascript api \n",
        "OpticalDepth = ee.Image('MODIS/006/MOD08_M3/A2018091')\n",
        "GlobalTemp = ee.Image('MODIS/006/MOD11A1/2018_09_01')\n",
        "\n",
        "# set visualization parameters for each of the image layers to be visualized\n",
        "vis_params = {\n",
        "  'min': -50,\n",
        "  'max': 800,\n",
        "  'palette': ['0500ff', ' 00d4ff', ' 00ff10', ' FFd200', 'FF1e00']}\n",
        "\n",
        "vis_params1 = {\n",
        "  'min': 12000,\n",
        "  'max': 16000,\n",
        "  'palette': ['0500ff', ' 00d4ff', ' 00ff10', ' FFd200', 'FF1e00']}\n",
        "\n",
        "# create map object using the folium.Map command \n",
        "my_map = folium.Map(location=[20, 0], zoom_start=3, height=1000)\n",
        "\n",
        "# Add the Optical Depth Image and Global temp Image to Map, set visualization parameters and name layers \n",
        "my_map.add_ee_layer(OpticalDepth.select('Aerosol_Optical_Depth_Land_Ocean_Mean_Mean'), vis_params, 'Mean Aerosol Optical Depth')\n",
        "my_map.add_ee_layer(GlobalTemp.select('LST_Day_1km'), vis_params1, 'Global Surface Temp')\n",
        "\n",
        "# this adds the layer control panel to the map so that layers can be toggled on and off\n",
        "my_map.add_child(folium.LayerControl())\n",
        "\n",
        "# displays the map\n",
        "display(my_map)\n",
        "\n",
        "# export map source code as HTML file\n",
        "my_map.save('index.html')"
      ],
      "execution_count": 6,
      "outputs": [
        {
          "output_type": "display_data",
          "data": {
            "text/html": [
              "<div style=\"width:100%;\"><div style=\"position:relative;width:100%;height:0;padding-bottom:60%;\"><iframe src=\"about:blank\" style=\"position:absolute;width:100%;height:100%;left:0;top:0;border:none !important;\" data-html=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 onload=\"this.contentDocument.open();this.contentDocument.write(atob(this.getAttribute('data-html')));this.contentDocument.close();\" allowfullscreen webkitallowfullscreen mozallowfullscreen></iframe></div></div>"
            ],
            "text/plain": [
              "<folium.folium.Map at 0x7f9f7be4c198>"
            ]
          },
          "metadata": {
            "tags": []
          }
        }
      ]
    }
  ]
}